{
 "cells": [
  {
   "cell_type": "code",
   "execution_count": 1,
   "metadata": {},
   "outputs": [],
   "source": [
    "import torch\n",
    "from torch.distributions.uniform import Uniform\n",
    "import numpy as np\n",
    "from matplotlib import pyplot as plt\n",
    "from torch.distributions.utils import broadcast_all"
   ]
  },
  {
   "cell_type": "code",
   "execution_count": 2,
   "metadata": {},
   "outputs": [],
   "source": [
    "from exponential import RightTruncatedExponential"
   ]
  },
  {
   "cell_type": "markdown",
   "metadata": {},
   "source": [
    "# Mixture of Discrete and Continuous over [0,1)\n",
    "\n",
    "This distribution is a mixture of a point masses at $0$ and a continuous distribution over the support $(0, 1)$.\n",
    "\n",
    "The distribution function looks like this:\n",
    "\n",
    "\\begin{equation}\n",
    "f(x|\\alpha, \\beta) = \\alpha \\delta(x) + (1-\\alpha) g(x|\\beta)\n",
    "\\end{equation}\n",
    "\n",
    "where $0 < \\alpha < 1$ and $g(x|\\beta)$ is a (properly normalised) density over $(0,1)$."
   ]
  },
  {
   "cell_type": "code",
   "execution_count": 12,
   "metadata": {},
   "outputs": [],
   "source": [
    "from mixture import MixtureD0C01 as Mixture\n",
    "from utils import mc_entropy, mc_kl"
   ]
  },
  {
   "cell_type": "code",
   "execution_count": 13,
   "metadata": {},
   "outputs": [
    {
     "data": {
      "text/plain": [
       "tensor([0.])"
      ]
     },
     "execution_count": 13,
     "metadata": {},
     "output_type": "execute_result"
    }
   ],
   "source": [
    "logits = torch.from_numpy(np.array([0.])).float()\n",
    "logits"
   ]
  },
  {
   "cell_type": "code",
   "execution_count": 14,
   "metadata": {},
   "outputs": [
    {
     "name": "stdout",
     "output_type": "stream",
     "text": [
      "tensor([0.5000]) tensor([0.5000])\n"
     ]
    }
   ],
   "source": [
    "p = Mixture(logits0=logits, \n",
    "            cont=RightTruncatedExponential(rate=torch.ones(1), upper=1.))\n",
    "print(p.p0, p.pc)"
   ]
  },
  {
   "cell_type": "code",
   "execution_count": 15,
   "metadata": {},
   "outputs": [
    {
     "data": {
      "text/plain": [
       "tensor([[0.0160],\n",
       "        [0.6370],\n",
       "        [0.0000],\n",
       "        [0.0000],\n",
       "        [0.7453],\n",
       "        [0.0000],\n",
       "        [0.0000],\n",
       "        [0.0000],\n",
       "        [0.0133],\n",
       "        [0.0000]])"
      ]
     },
     "execution_count": 15,
     "metadata": {},
     "output_type": "execute_result"
    }
   ],
   "source": [
    "x = p.rsample(torch.Size([10]))\n",
    "x"
   ]
  },
  {
   "cell_type": "code",
   "execution_count": 16,
   "metadata": {},
   "outputs": [
    {
     "data": {
      "image/png": "[encoded data removed]",
      "text/plain": [
       "<Figure size 432x288 with 1 Axes>"
      ]
     },
     "metadata": {
      "needs_background": "light"
     },
     "output_type": "display_data"
    }
   ],
   "source": [
    "_= plt.hist(p.rsample(torch.Size([1000])).numpy(), bins=50)"
   ]
  },
  {
   "cell_type": "code",
   "execution_count": 17,
   "metadata": {},
   "outputs": [
    {
     "name": "stdout",
     "output_type": "stream",
     "text": [
      "tensor([0.7311]) tensor([0.2689])\n"
     ]
    }
   ],
   "source": [
    "p2 = Mixture(logits0=torch.ones(1), \n",
    "            cont=RightTruncatedExponential(rate=torch.ones(1) * 1., upper=1.))\n",
    "print(p2.p0, p2.pc)"
   ]
  },
  {
   "cell_type": "code",
   "execution_count": 18,
   "metadata": {},
   "outputs": [
    {
     "data": {
      "text/plain": [
       "tensor([0.1205])"
      ]
     },
     "execution_count": 18,
     "metadata": {},
     "output_type": "execute_result"
    }
   ],
   "source": [
    "kl_mc(p, p2, 1000000)"
   ]
  },
  {
   "cell_type": "code",
   "execution_count": 19,
   "metadata": {},
   "outputs": [
    {
     "data": {
      "text/plain": [
       "tensor([0.1201])"
      ]
     },
     "execution_count": 19,
     "metadata": {},
     "output_type": "execute_result"
    }
   ],
   "source": [
    "torch.distributions.kl.kl_divergence(p, p2)"
   ]
  },
  {
   "cell_type": "code",
   "execution_count": null,
   "metadata": {},
   "outputs": [],
   "source": []
  }
 ],
 "metadata": {
  "kernelspec": {
   "display_name": "Python 3",
   "language": "python",
   "name": "python3"
  },
  "language_info": {
   "codemirror_mode": {
    "name": "ipython",
    "version": 3
   },
   "file_extension": ".py",
   "mimetype": "text/x-python",
   "name": "python",
   "nbconvert_exporter": "python",
   "pygments_lexer": "ipython3",
   "version": "3.5.2"
  }
 },
 "nbformat": 4,
 "nbformat_minor": 2
}
