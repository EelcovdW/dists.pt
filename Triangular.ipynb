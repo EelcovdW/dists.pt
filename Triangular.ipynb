{
 "cells": [
  {
   "cell_type": "markdown",
   "metadata": {},
   "source": [
    "# Triangular distribution\n",
    "\n",
    "The [Triangular](https://en.wikipedia.org/wiki/Triangular_distribution) distribution is specified via an interval $[a,b]$ and a mode $c \\in [a, b]$, though I will be modelling $a < c < b$.\n",
    "\n"
   ]
  },
  {
   "cell_type": "code",
   "execution_count": null,
   "metadata": {},
   "outputs": [],
   "source": [
    "from triangular import Triangular\n",
    "import torch\n",
    "import numpy as np\n",
    "import math\n",
    "from matplotlib import pyplot as plt\n",
    "from triangular import mc_kl_triangular_triangular, kl_triangular_triangular"
   ]
  },
  {
   "cell_type": "code",
   "execution_count": null,
   "metadata": {},
   "outputs": [],
   "source": [
    "def plot_pdf(modes, step=1e-3):\n",
    "    plt.title('Triangular(0, 1).pdf')\n",
    "    x = np.arange(0. + step, 1., step)\n",
    "    for mode in modes:\n",
    "        p_x = Triangular(mode=torch.ones(1) * mode)\n",
    "        y = np.exp(p_x.log_prob(torch.from_numpy(x).float()).numpy())\n",
    "        plt.plot(x, y)\n",
    "    plt.legend(['c=%.2f' % c for c in modes], \n",
    "               loc='upper center', bbox_to_anchor=(0.5, -0.1),\n",
    "               fancybox=True, shadow=True, ncol=4)\n",
    "    \n",
    "def plot_cdf(modes, step=1e-3):\n",
    "    plt.title('Triangular(0, 1).cdf')\n",
    "    x = np.arange(0. + step, 1., step)\n",
    "    for mode in modes:\n",
    "        p_x = Triangular(mode=torch.ones(1) * mode)\n",
    "        y = p_x.cdf(torch.from_numpy(x).float()).numpy()\n",
    "        plt.plot(x, y) \n",
    "    plt.legend(['c=%.2f' % c for c in modes], \n",
    "               loc='upper center', bbox_to_anchor=(0.5, -0.1),\n",
    "               fancybox=True, shadow=True, ncol=4)\n",
    "    \n",
    "def plot_icdf(modes, step=1e-3):\n",
    "    plt.title('Triangular(0, 1).cdf')\n",
    "    u = np.arange(0. + step, 1., step)\n",
    "    for mode in modes:\n",
    "        p_x = Triangular(mode=torch.ones(1) * mode)\n",
    "        x = p_x.icdf(torch.from_numpy(u).float()).numpy()\n",
    "        plt.plot(u, x)\n",
    "    plt.legend(['c=%.2f' % c for c in modes], \n",
    "               loc='upper center', bbox_to_anchor=(0.5, -0.1),\n",
    "               fancybox=True, shadow=True, ncol=4)\n",
    "    \n",
    "def plot_samples(modes, n=1000, cols=3):\n",
    "    plt.subplots_adjust(wspace=0.5, hspace=0.6)\n",
    "    plt.suptitle('Triangular(0, 1).cdf')\n",
    "    for i, mode in enumerate(modes, 1):        \n",
    "        p_x = Triangular(mode=torch.ones(1) * mode)\n",
    "        x = p_x.rsample(sample_shape=torch.Size([n])).numpy()        \n",
    "        plt.subplot(math.ceil(len(modes)/cols), cols, i)\n",
    "        plt.title('c=%.2f' % mode)\n",
    "        _ = plt.hist(x, bins=50, density=True)        \n",
    "        \n",
    "def plot_entropy(modes):\n",
    "    y1 = []\n",
    "    y2 = []\n",
    "    for mode in modes:\n",
    "        p_x = Triangular(torch.ones(1) * mode)\n",
    "        y1.append(p_x.entropy().numpy())\n",
    "        y2.append(p_x.cross_entropy(p_x).numpy())\n",
    "    y1 = np.array(y1).flatten()\n",
    "    y2 = np.array(y2).flatten()\n",
    "    plt.title('Entropy')\n",
    "    plt.plot(modes, np.around(y1, 4), 'o', fillstyle='none')\n",
    "    plt.plot(modes, np.around(y2, 4), '+', fillstyle='none')\n",
    "    plt.legend(['wikipedia', 'wilker'])\n",
    "    #for a, b, c in zip(modes, y1, y2):\n",
    "    #    print('%.2f %.4f %.4f' % (a, b, c))\n",
    "    \n",
    "def plot_kl(modes, ref=1., upper=1., n_samples=100, repetitions=100):\n",
    "    \n",
    "    p_ref = Triangular(mode=torch.ones(1) * ref)\n",
    "    x = []\n",
    "    y1 = []\n",
    "    y1_exact = []\n",
    "    y2 = []\n",
    "    y2_exact = []\n",
    "    plt.title('KL divergence')\n",
    "    for mode in modes:\n",
    "        p_x = Triangular(torch.ones(1) * mode)\n",
    "        x.append(mode)\n",
    "        kl1 = [mc_kl_triangular_triangular(p_ref, p_x, n_samples=n_samples).numpy() for _ in range(repetitions)]\n",
    "        y1.append(kl1)\n",
    "        kl2 = [mc_kl_triangular_triangular(p_x, p_ref, n_samples=n_samples).numpy() for _ in range(repetitions)]\n",
    "        y2.append(kl2)\n",
    "        kl1_exact = kl_triangular_triangular(p_ref, p_x).numpy()\n",
    "        y1_exact.append(kl1_exact)\n",
    "        kl2_exact = kl_triangular_triangular(p_x, p_ref).numpy()        \n",
    "        y2_exact.append(kl2_exact)\n",
    "    y1 = np.array(y1).reshape([len(modes), -1])\n",
    "    y2 = np.array(y2).reshape([len(modes), -1])\n",
    "    y1_exact = np.array(y1_exact).reshape([len(modes)])\n",
    "    y2_exact = np.array(y2_exact).reshape([len(modes)])\n",
    "    \n",
    "    # MC\n",
    "    plt.boxplot([y1[i] for i, c in enumerate(modes)], \n",
    "                positions=np.arange(1, len(modes) + 1) - 0.2,\n",
    "                widths=0.2,  patch_artist=True,\n",
    "                boxprops=dict(facecolor='blue', color='blue'),\n",
    "                zorder=-1)\n",
    "    # exact\n",
    "    plt.plot(np.arange(1, len(modes) + 1) - 0.2, y1_exact, '*', color='red')\n",
    "    \n",
    "    # MC\n",
    "    plt.boxplot([y2[i] for i, c in enumerate(modes)], \n",
    "                positions=np.arange(1, len(modes) + 1) + 0.2,\n",
    "                widths=0.2, patch_artist=True,\n",
    "                boxprops=dict(facecolor='orange', color='orange'),\n",
    "                zorder=-1)\n",
    "    # exact\n",
    "    plt.plot(np.arange(1, len(modes) + 1) + 0.2, y2_exact, '*', color='red')\n",
    "    \n",
    "    plt.xticks(np.arange(1, len(modes) + 1), ['%.2f' % c for c in modes])\n",
    "    plt.ylabel('KL')\n",
    "    plt.xlabel('c')\n",
    "    plt.legend(['KL-MC(Tri(%.2f)||Tri(c))' % ref,\n",
    "                'KL(Tri(%.2f)||Tri(c))' % ref,\n",
    "                'KL(Tri(c)||Tri(%.2f))' % ref],\n",
    "               loc='upper center', bbox_to_anchor=(0.5, -0.1),\n",
    "               fancybox=True, shadow=True, ncol=4)"
   ]
  },
  {
   "cell_type": "markdown",
   "metadata": {},
   "source": [
    "The entropy is not a function of the mode"
   ]
  },
  {
   "cell_type": "code",
   "execution_count": null,
   "metadata": {},
   "outputs": [],
   "source": [
    "plot_entropy(np.arange(0.1, 1., 0.15))"
   ]
  },
  {
   "cell_type": "code",
   "execution_count": null,
   "metadata": {},
   "outputs": [],
   "source": [
    "plot_pdf(np.arange(0., 1.1, 0.1))"
   ]
  },
  {
   "cell_type": "code",
   "execution_count": null,
   "metadata": {},
   "outputs": [],
   "source": [
    "plot_cdf(np.arange(0., 1.1, 0.1))"
   ]
  },
  {
   "cell_type": "code",
   "execution_count": null,
   "metadata": {},
   "outputs": [],
   "source": [
    "plot_icdf(np.arange(0., 1.1, 0.1))"
   ]
  },
  {
   "cell_type": "code",
   "execution_count": null,
   "metadata": {},
   "outputs": [],
   "source": [
    "plot_samples(np.arange(0.1, 1., 0.15))"
   ]
  },
  {
   "cell_type": "code",
   "execution_count": null,
   "metadata": {},
   "outputs": [],
   "source": [
    "plot_kl(np.arange(0., 1.1, 0.1), ref=0.5, n_samples=1, repetitions=100)"
   ]
  },
  {
   "cell_type": "code",
   "execution_count": null,
   "metadata": {},
   "outputs": [],
   "source": [
    "plot_kl(np.arange(0., 1.1, 0.1), ref=0.5, n_samples=100, repetitions=100)"
   ]
  },
  {
   "cell_type": "code",
   "execution_count": null,
   "metadata": {},
   "outputs": [],
   "source": []
  }
 ],
 "metadata": {
  "kernelspec": {
   "display_name": "Python 3",
   "language": "python",
   "name": "python3"
  },
  "language_info": {
   "codemirror_mode": {
    "name": "ipython",
    "version": 3
   },
   "file_extension": ".py",
   "mimetype": "text/x-python",
   "name": "python",
   "nbconvert_exporter": "python",
   "pygments_lexer": "ipython3",
   "version": "3.5.2"
  }
 },
 "nbformat": 4,
 "nbformat_minor": 2
}
